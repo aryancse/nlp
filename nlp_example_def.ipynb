{
 "cells": [
  {
   "cell_type": "code",
   "execution_count": 1,
   "metadata": {},
   "outputs": [],
   "source": [
    "from nltk.corpus import wordnet\n",
    "import time"
   ]
  },
  {
   "cell_type": "code",
   "execution_count": 2,
   "metadata": {},
   "outputs": [],
   "source": [
    "ws=wordnet.synsets('work') #lemma word pass "
   ]
  },
  {
   "cell_type": "code",
   "execution_count": 3,
   "metadata": {},
   "outputs": [
    {
     "data": {
      "text/plain": [
       "34"
      ]
     },
     "execution_count": 3,
     "metadata": {},
     "output_type": "execute_result"
    }
   ],
   "source": [
    "len(ws)"
   ]
  },
  {
   "cell_type": "code",
   "execution_count": 4,
   "metadata": {},
   "outputs": [
    {
     "data": {
      "text/plain": [
       "'activity directed toward making or doing something'"
      ]
     },
     "execution_count": 4,
     "metadata": {},
     "output_type": "execute_result"
    }
   ],
   "source": [
    "ws[0].definition() # by this we get the definition"
   ]
  },
  {
   "cell_type": "code",
   "execution_count": 5,
   "metadata": {},
   "outputs": [
    {
     "data": {
      "text/plain": [
       "['she checked several points needing further work']"
      ]
     },
     "execution_count": 5,
     "metadata": {},
     "output_type": "execute_result"
    }
   ],
   "source": [
    "ws[0].examples()"
   ]
  },
  {
   "cell_type": "code",
   "execution_count": 6,
   "metadata": {},
   "outputs": [
    {
     "name": "stdout",
     "output_type": "stream",
     "text": [
      "enter your keyword you want to know about:--->red\n",
      "red color or pigment; the chromatic color resembling the hue of blood\n",
      "__________\n",
      "[]\n",
      "a tributary of the Mississippi River that flows eastward from Texas along the southern boundary of Oklahoma and through Louisiana\n",
      "__________\n",
      "[]\n",
      "emotionally charged terms used to refer to extreme radicals or revolutionaries\n",
      "__________\n",
      "[]\n",
      "the amount by which the cost of a business exceeds its revenue\n",
      "__________\n",
      "['the company operated at a loss last year', 'the company operated in the red last year']\n",
      "of a color at the end of the color spectrum (next to orange); resembling the color of blood or cherries or tomatoes or rubies\n",
      "__________\n",
      "[]\n",
      "characterized by violence or bloodshed; - Andrea Parke; - Thomas Gray; - Hudson Strode\n",
      "__________\n",
      "['writes of crimson deeds and barbaric days', \"fann'd by Conquest's crimson wing\", 'convulsed with red rage']\n",
      "(especially of the face) reddened or suffused with or as if with blood from emotion or exertion\n",
      "__________\n",
      "['crimson with fury', 'turned red from exertion', 'with puffy reddened eyes', 'red-faced and violent', 'flushed (or crimson) with embarrassment']\n"
     ]
    }
   ],
   "source": [
    "# exploring all the books\n",
    "msg=input(\"enter your keyword you want to know about:--->\")\n",
    "for i in wordnet.synsets(msg) :  #this explores all the books according to standford university\n",
    "    print(i.definition())\n",
    "    print(\"__________\")\n",
    "    print(i.examples())\n",
    "    time.sleep(2)"
   ]
  },
  {
   "cell_type": "code",
   "execution_count": null,
   "metadata": {},
   "outputs": [],
   "source": []
  },
  {
   "cell_type": "code",
   "execution_count": null,
   "metadata": {},
   "outputs": [],
   "source": []
  }
 ],
 "metadata": {
  "kernelspec": {
   "display_name": "Python 3",
   "language": "python",
   "name": "python3"
  },
  "language_info": {
   "codemirror_mode": {
    "name": "ipython",
    "version": 3
   },
   "file_extension": ".py",
   "mimetype": "text/x-python",
   "name": "python",
   "nbconvert_exporter": "python",
   "pygments_lexer": "ipython3",
   "version": "3.7.3"
  }
 },
 "nbformat": 4,
 "nbformat_minor": 2
}
